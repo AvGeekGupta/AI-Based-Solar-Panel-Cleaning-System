{
 "cells": [
  {
   "cell_type": "code",
   "execution_count": 1,
   "id": "a4373f2a-3879-4445-9ce7-8c22ffe8743f",
   "metadata": {},
   "outputs": [],
   "source": [
    "import pandas"
   ]
  },
  {
   "cell_type": "code",
   "execution_count": 3,
   "id": "3efb5bd9-bd75-4413-a8e9-df42aa9dde53",
   "metadata": {},
   "outputs": [],
   "source": [
    "data = pandas.read_csv(\"AlteredColumns.csv\")"
   ]
  },
  {
   "cell_type": "code",
   "execution_count": 5,
   "id": "c53ff461-1454-43ad-ad68-a6c946f81d08",
   "metadata": {},
   "outputs": [
    {
     "name": "stdout",
     "output_type": "stream",
     "text": [
      "<class 'pandas.core.frame.DataFrame'>\n",
      "RangeIndex: 114048 entries, 0 to 114047\n",
      "Data columns (total 10 columns):\n",
      " #   Column             Non-Null Count   Dtype  \n",
      "---  ------             --------------   -----  \n",
      " 0   PeriodStart        114048 non-null  object \n",
      " 1   AirTemp            114048 non-null  float64\n",
      " 2   CloudOpacity       114048 non-null  float64\n",
      " 3   DewpointTemp       114048 non-null  float64\n",
      " 4   Ghi                114048 non-null  int64  \n",
      " 5   PrecipitableWater  114048 non-null  float64\n",
      " 6   RelativeHumidity   114048 non-null  float64\n",
      " 7   SurfacePressure    114048 non-null  float64\n",
      " 8   WindDirection10m   114048 non-null  int64  \n",
      " 9   WindSpeed10m       114048 non-null  float64\n",
      "dtypes: float64(7), int64(2), object(1)\n",
      "memory usage: 8.7+ MB\n"
     ]
    }
   ],
   "source": [
    "data.info()"
   ]
  },
  {
   "cell_type": "code",
   "execution_count": null,
   "id": "6e327032-2479-482c-848d-723360a6d557",
   "metadata": {},
   "outputs": [],
   "source": []
  }
 ],
 "metadata": {
  "kernelspec": {
   "display_name": "Python 3 (ipykernel)",
   "language": "python",
   "name": "python3"
  },
  "language_info": {
   "codemirror_mode": {
    "name": "ipython",
    "version": 3
   },
   "file_extension": ".py",
   "mimetype": "text/x-python",
   "name": "python",
   "nbconvert_exporter": "python",
   "pygments_lexer": "ipython3",
   "version": "3.9.10"
  }
 },
 "nbformat": 4,
 "nbformat_minor": 5
}
